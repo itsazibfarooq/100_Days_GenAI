{
 "cells": [
  {
   "cell_type": "markdown",
   "metadata": {},
   "source": [
    "### Simulating Brownina motion"
   ]
  },
  {
   "cell_type": "code",
   "execution_count": null,
   "metadata": {},
   "outputs": [],
   "source": [
    "import torch \n",
    "from abc import ABC, abstractmethod \n",
    "import matplotlib.pyplot as plt \n",
    "from typing import Optional\n",
    "from matplotlib.axes._axes import Axes"
   ]
  },
  {
   "cell_type": "code",
   "execution_count": null,
   "metadata": {},
   "outputs": [],
   "source": [
    "class SDE(ABC):\n",
    "    @abstractmethod \n",
    "    def drift_comp(self, x0, t):\n",
    "        pass \n",
    "\n",
    "    @abstractmethod\n",
    "    def diff_comp(self, x0, t):\n",
    "        pass \n",
    "\n",
    "class Simulator(ABC):\n",
    "    @abstractmethod \n",
    "    def step(self, x, t, h):\n",
    "        pass \n",
    "\n",
    "    @torch.no_grad()\n",
    "    def simulate(self, x0, ts):\n",
    "        for idx in range(1, len(ts)):\n",
    "            t = ts[idx - 1] \n",
    "            h = ts[idx] - ts[idx - 1]\n",
    "            x0 = self.step(x0, t, h)\n",
    "        return x0\n",
    "\n",
    "    @torch.no_grad()\n",
    "    def simulate_with_trajectory(self, x0, ts):\n",
    "        trajectory = [x0.clone()]\n",
    "        for idx in range(1, len(ts)):\n",
    "            t = ts[idx - 1] \n",
    "            h = ts[idx] - ts[idx - 1] \n",
    "            x0 = self.step(x0, t, h)\n",
    "            trajectory.append(x0.clone())\n",
    "        res = torch.stack(trajectory, dim=1)    # [bs, ts, 1]\n",
    "        return res   \n"
   ]
  },
  {
   "cell_type": "markdown",
   "metadata": {},
   "source": [
    "$X_{t+h} = X_t + hu_t(X_t) + \\sigma \\sqrt{h} \\epsilon$"
   ]
  },
  {
   "cell_type": "code",
   "execution_count": null,
   "metadata": {},
   "outputs": [],
   "source": [
    "class EM(Simulator):\n",
    "    def __init__(self, sde):\n",
    "        self.sde = sde \n",
    "    \n",
    "    def step(self, x, t, h):\n",
    "        res = x + self.sde.drift_comp(x, t) * h + self.sde.diff_comp(x, t) * torch.sqrt(h) * torch.randn_like(x)\n",
    "        return res"
   ]
  },
  {
   "cell_type": "code",
   "execution_count": null,
   "metadata": {},
   "outputs": [],
   "source": [
    "class Weiner(SDE):\n",
    "    def __init__(self, sigma):\n",
    "        self.sigma = sigma\n",
    "    \n",
    "    def drift_comp(self, x, t):\n",
    "        return torch.zeros_like(x) \n",
    "    \n",
    "    def diff_comp(self, x, t):\n",
    "        return self.sigma * torch.ones_like(x)"
   ]
  },
  {
   "cell_type": "code",
   "execution_count": null,
   "metadata": {},
   "outputs": [],
   "source": [
    "class OU(SDE):\n",
    "    def __init__(self, theta, sigma):\n",
    "        self.theta = theta \n",
    "        self.sigma = sigma \n",
    "    \n",
    "    def drift_comp(self, xt, t):\n",
    "        return - self.theta * xt\n",
    "\n",
    "    def diff_comp(self, xt, t):\n",
    "        return self.sigma * torch.ones_like(xt)\n"
   ]
  },
  {
   "cell_type": "code",
   "execution_count": null,
   "metadata": {},
   "outputs": [],
   "source": [
    "class Cox(SDE):\n",
    "    def __init__(self, mu, theta, sigma):\n",
    "        self.theta = theta \n",
    "        self.sigma = sigma \n",
    "        self.mu = mu\n",
    "    \n",
    "    def drift_comp(self, x, t):\n",
    "        return self.theta * (self.mu - x)\n",
    "\n",
    "    def diff_comp(self, x, t):\n",
    "        return self.sigma * torch.sqrt(x)\n"
   ]
  },
  {
   "cell_type": "code",
   "execution_count": null,
   "metadata": {},
   "outputs": [],
   "source": [
    "def plot_trajectory(x0, simulator, ts, ax):\n",
    "    trajectories = simulator.simulate_with_trajectory(x0, ts)\n",
    "    for idx in (range(trajectories.shape[0])):\n",
    "        trajectory = trajectories[idx, :, 0]\n",
    "        ax.plot(ts, trajectory)"
   ]
  },
  {
   "cell_type": "code",
   "execution_count": null,
   "metadata": {},
   "outputs": [],
   "source": [
    "sigma = 0.01\n",
    "geometric = Weiner(sigma=sigma)\n",
    "simulator = EM(sde=geometric) \n",
    "\n",
    "x0 = torch.zeros(4, 1)\n",
    "ts = torch.linspace(0.0, 10.0, 1000)\n",
    "\n",
    "plt.figure(figsize=(4, 4))\n",
    "ax = plt.gca()\n",
    "ax.set_title(r'Trajectories of Brownian Motion with $\\sigma=$' + str(sigma) + ' $\\\\theta=$' + str(theta), fontsize=12)\n",
    "ax.set_xlabel(r'Time ($t$)', fontsize=12)\n",
    "ax.set_ylabel(r'$X_t$', fontsize=12)\n",
    "plot_trajectory(x0, simulator, ts, ax)\n",
    "plt.show()"
   ]
  },
  {
   "cell_type": "code",
   "execution_count": null,
   "metadata": {},
   "outputs": [],
   "source": []
  },
  {
   "cell_type": "markdown",
   "metadata": {},
   "source": [
    "### Gaussian, GaussianMixture and Plotting"
   ]
  },
  {
   "cell_type": "code",
   "execution_count": null,
   "metadata": {},
   "outputs": [],
   "source": [
    "from torch.func import vmap, jacrev\n",
    "import torch.distributions as D\n",
    "from torch import nn\n",
    "import numpy as np"
   ]
  },
  {
   "cell_type": "code",
   "execution_count": null,
   "metadata": {},
   "outputs": [],
   "source": [
    "class Density(ABC):\n",
    "    @abstractmethod \n",
    "    def log_density(self, x):\n",
    "        pass \n",
    "    \n",
    "    def score(self, x):\n",
    "        x.unsqueeze(1)\n",
    "        score = vmap(jacrev(self.log_density))(x)\n",
    "        return score.squeeze(1, 2, 3)\n",
    "\n",
    "class Sampleable(ABC):\n",
    "    @abstractmethod \n",
    "    def sample(self, n_samples: int):\n",
    "        pass \n"
   ]
  },
  {
   "cell_type": "code",
   "execution_count": null,
   "metadata": {},
   "outputs": [],
   "source": [
    "class Plotting:\n",
    "    def __init__(self, sampler: Sampleable | Density, n_samples: Optional[int] = 10, ax: Optional[Axes] = None, **kwargs):\n",
    "        self.sampler = sampler \n",
    "        self.n_samples = n_samples\n",
    "        self.ax = ax if ax is not None else plt.gca()\n",
    "        self.kwargs = kwargs \n",
    "    \n",
    "    def scatter(self, x: torch.Tensor = None, y: torch.Tensor = None):\n",
    "        if x is None or y is None:\n",
    "            samples = self.sampler.sample(self.n_samples)\n",
    "            x, y = samples[:, 0], samples[:, 1]\n",
    "        self.ax.scatter(x, y, **self.kwargs)\n",
    "    \n",
    "    def plot_trajectory(self, x: torch.Tensor, y: torch.Tensor):\n",
    "        self.ax.plot(x, y, **self.kwargs)\n",
    "\n",
    "\n",
    "    def hist(self):\n",
    "        samples = self.sampler.sample(self.n_samples)\n",
    "        for idx in range(samples.shape[-1]):\n",
    "            self.ax.hist(samples[:, idx], **self.kwargs)\n",
    "    \n",
    "    def hist2d(self):\n",
    "        samples = self.sampler.sample(self.n_samples)\n",
    "        x, y = samples[:, 0], samples[:, 1]\n",
    "        self.ax.hist2d(x, y, **self.kwargs)\n",
    "    \n",
    "    def get_density(self, scale, bins):\n",
    "        x = torch.linspace(-scale, scale, bins)\n",
    "        y = torch.linspace(-scale, scale, bins)\n",
    "        X, Y = torch.meshgrid(x, y) # make all possible pairs of x and y\n",
    "        xy = torch.stack([X.flatten(), Y.flatten()], dim=-1)\n",
    "        density = self.sampler.log_density(xy).view(bins, bins).T\n",
    "        return density\n",
    "\n",
    "    def imshow(self, scale: float, bins: int):\n",
    "        density = self.get_density(scale, bins)        \n",
    "        self.ax.imshow(\n",
    "            density, \n",
    "            extent=[-scale, scale] * 2,\n",
    "            origin='lower', \n",
    "            **self.kwargs\n",
    "        )\n",
    "    \n",
    "    def contour(self, scale, bins):\n",
    "        density = self.get_density(scale, bins)\n",
    "        self.ax.contour(\n",
    "            density, \n",
    "            extent=[-scale, scale] * 2,\n",
    "            origin='lower',\n",
    "            **self.kwargs\n",
    "        )"
   ]
  },
  {
   "cell_type": "code",
   "execution_count": null,
   "metadata": {},
   "outputs": [],
   "source": [
    "class Gaussian(nn.Module, Sampleable, Density):\n",
    "    def __init__(self, mean, cov):\n",
    "        super().__init__()\n",
    "        self.register_buffer('mean', mean)\n",
    "        self.register_buffer('cov', cov)\n",
    "\n",
    "    @property\n",
    "    def distribution(self):\n",
    "        return D.MultivariateNormal(self.mean, self.cov, validate_args=False)\n",
    "    \n",
    "    def log_density(self, x):\n",
    "        return self.distribution.log_prob(x).view(-1, 1)\n",
    "\n",
    "    def sample(self, n):\n",
    "        return self.distribution.sample((n,))\n",
    "\n",
    "class GaussianMixture(nn.Module, Sampleable, Density):\n",
    "    def __init__(self, mean, cov, weight):\n",
    "        super().__init__()\n",
    "        self.register_buffer('mean', mean)\n",
    "        self.register_buffer('cov', cov)\n",
    "        self.register_buffer('weight', weight)\n",
    "    \n",
    "    @property\n",
    "    def distribution(self):\n",
    "        return D.MixtureSameFamily(\n",
    "            mixture_distribution=D.Categorical(probs=self.weight, validate_args=False),\n",
    "            component_distribution=D.MultivariateNormal(self.mean, self.cov, validate_args=False),\n",
    "            validate_args=False \n",
    "        )\n",
    "\n",
    "    def log_density(self, x: torch.Tensor):\n",
    "        return self.distribution.log_prob(x).view(-1, 1)\n",
    "\n",
    "    def sample(self, n_samples: int):\n",
    "        return self.distribution.sample((n_samples,))\n",
    "    \n",
    "    @classmethod \n",
    "    def random2d(cls, n_dist: int, std: float, scale: float):\n",
    "        mean = (torch.randn(n_dist, 2) - 0.5) * scale\n",
    "        cov = torch.diag_embed(torch.ones(n_dist, 2)) * std ** 2 \n",
    "        weight = torch.ones(n_dist)\n",
    "        print(f'normal distribution with\\n{mean=}\\n{std=}')\n",
    "        return cls(mean, cov, weight)\n",
    "    \n",
    "    @classmethod \n",
    "    def symmetric2d(cls, n_dist: int, std: float, scale: float):\n",
    "        angles = torch.linspace(0, 2*np.pi, n_dist + 1)[:n_dist]\n",
    "        mean = torch.stack([torch.cos(angles), torch.sin(angles)], dim=1) * scale\n",
    "        cov = torch.diag_embed(torch.ones(n_dist, 2)) * std ** 2 \n",
    "        weight = torch.ones(n_dist)\n",
    "        print(f'Distribution parameters\\n{mean=}\\n{std=}')\n",
    "        return cls(mean, cov, weight)"
   ]
  },
  {
   "cell_type": "code",
   "execution_count": null,
   "metadata": {},
   "outputs": [],
   "source": [
    "std = 1.0\n",
    "gaussians = {\n",
    "    \"gaussian\": Gaussian(mean=torch.zeros(2), cov=torch.eye(2) * std),\n",
    "    \"random2d\": GaussianMixture.random2d(n_dist=5, std=std, scale=10.0),\n",
    "    \"symmetric2d\": GaussianMixture.symmetric2d(n_dist=5, std=std, scale=10.0)\n",
    "}"
   ]
  },
  {
   "cell_type": "code",
   "execution_count": null,
   "metadata": {},
   "outputs": [],
   "source": [
    "ax = plt.gca()\n",
    "scale= 40\n",
    "bins= 100\n",
    "sampler = gaussians['gaussian']\n",
    "Plotting(sampler, 100, ax, vmin=-15, cmap=plt.get_cmap('Blues')).imshow(scale=scale, bins=100)\n",
    "Plotting(sampler,  100, ax, colors='grey', linestyles='solid', alpha=0.25, levels=20).contour(scale=scale, bins=100)"
   ]
  },
  {
   "cell_type": "code",
   "execution_count": null,
   "metadata": {},
   "outputs": [],
   "source": [
    "Plotting(sampler, 1000, bins=100).hist()"
   ]
  },
  {
   "cell_type": "markdown",
   "metadata": {},
   "source": [
    "### Implementing Langevin Dynamic"
   ]
  },
  {
   "cell_type": "markdown",
   "metadata": {},
   "source": [
    "$$dX_t = \\frac{1}{2} \\sigma^2\\nabla \\log p(X_t) dt + \\sigma dW_t,$$"
   ]
  },
  {
   "cell_type": "code",
   "execution_count": null,
   "metadata": {},
   "outputs": [],
   "source": [
    "class langevin(SDE):\n",
    "    def __init__(self, sigma: float, density: Density):\n",
    "        self.density = density\n",
    "        self.sigma = sigma\n",
    "\n",
    "    def drift_comp(self, x, t):\n",
    "        return 0.5 * self.sigma ** 2 * self.density.score(x)\n",
    "\n",
    "    def diff_comp(self, x, t):\n",
    "        return self.sigma * torch.ones_like(x)\n"
   ]
  },
  {
   "cell_type": "code",
   "execution_count": null,
   "metadata": {},
   "outputs": [],
   "source": [
    "sigma = 0.01\n",
    "target = GaussianMixture.random2d(n_dist=5, std=1.0, scale=10.0)\n",
    "langvinSDE = langevin(sigma=sigma, density=target)\n",
    "sim = EM(sde=langvinSDE)"
   ]
  },
  {
   "cell_type": "code",
   "execution_count": null,
   "metadata": {},
   "outputs": [],
   "source": [
    "Plotting(target, 1000, vmin=-15, cmap=plt.get_cmap('Blues')).imshow(scale=40, bins=200)"
   ]
  },
  {
   "cell_type": "code",
   "execution_count": null,
   "metadata": {},
   "outputs": [],
   "source": [
    "x0 = torch.randn(100, 2) * 10\n",
    "ts = torch.linspace(0.0, 10.0, 1000)"
   ]
  },
  {
   "cell_type": "code",
   "execution_count": null,
   "metadata": {},
   "outputs": [],
   "source": [
    "trajectory = sim.simulate_with_trajectory(x0, ts)"
   ]
  },
  {
   "cell_type": "code",
   "execution_count": null,
   "metadata": {},
   "outputs": [],
   "source": [
    "x0, y0 = trajectory[:, 0, 0], trajectory[:, 0, 1]\n",
    "xt, yt = trajectory[:, -1, 0], trajectory[:, -1, 1]\n",
    "ax = plt.gca() \n",
    "Plotting(target, ax=ax, color='r').scatter(x0, y0)\n",
    "Plotting(target, ax=ax, color='g').scatter(xt, yt)\n",
    "Plotting(target, ax=ax, vmin=-15, cmap=plt.get_cmap('Blues')).imshow(scale=25, bins=100)\n",
    "Plotting(target, ax=ax, alpha=0.25, levels=20, linestyles='solid', colors='gray').contour(scale=25, bins=100)\n",
    "# for idx in range(trajectory.shape[0]):\n",
    "#     Plotting(target, ax=ax, color='gray').plot_trajectory(trajectory[idx, :, 0], trajectory[idx, :, 1])"
   ]
  },
  {
   "cell_type": "code",
   "execution_count": null,
   "metadata": {},
   "outputs": [],
   "source": []
  },
  {
   "cell_type": "code",
   "execution_count": null,
   "metadata": {},
   "outputs": [],
   "source": []
  },
  {
   "cell_type": "markdown",
   "metadata": {},
   "source": [
    "### Simulating both ODE/SDE"
   ]
  },
  {
   "cell_type": "code",
   "execution_count": null,
   "metadata": {},
   "outputs": [],
   "source": [
    "from abc import ABC, abstractmethod\n",
    "import torch\n",
    "import numpy as np\n",
    "from typing import Optional\n",
    "import matplotlib.pyplot as plt \n",
    "from matplotlib.axes._axes import Axes"
   ]
  },
  {
   "cell_type": "markdown",
   "metadata": {},
   "source": [
    "Drift component is the vector field $u_t(X_t)$  \n",
    "Diffusion component is the random term $dW_t$"
   ]
  },
  {
   "cell_type": "code",
   "execution_count": null,
   "metadata": {},
   "outputs": [],
   "source": [
    "class ODE(ABC):\n",
    "    @abstractmethod\n",
    "    def drift_comp(self, x0: torch.Tensor, t: torch.Tensor) -> torch.Tensor:\n",
    "        \"\"\" d/dt Xt derivative/direction of the vector field \"\"\"\n",
    "        pass \n",
    "\n",
    "class SDE(ABC):\n",
    "    @abstractmethod\n",
    "    def drift_comp(self, x0: torch.Tensor, t: torch.Tensor) -> torch.Tensor:\n",
    "        \"\"\" d/dt Xt derivative/direction of the vector field \"\"\"\n",
    "        pass \n",
    "\n",
    "    def diff_comp(self, x0: torch.Tensor, t: torch.Tensor) -> torch.Tensor:\n",
    "        \"\"\" sigma for the weiner process \"\"\"\n",
    "        pass"
   ]
  },
  {
   "cell_type": "code",
   "execution_count": null,
   "metadata": {},
   "outputs": [],
   "source": [
    "class Simulator(ABC):\n",
    "    @abstractmethod \n",
    "    def step(self, xt: torch.Tensor, t: torch.Tensor, h: torch.Tensor) -> torch.Tensor:\n",
    "        \"\"\" perform gradient kind of update \"\"\"\n",
    "        pass \n",
    "\n",
    "    @torch.no_grad()\n",
    "    def simulate(self, x0: torch.Tensor, ts: torch.Tensor) -> torch.Tensor:\n",
    "        \"\"\"\" simulating the trajectory of x0 for all timesteps ts \"\"\"\n",
    "        for idx in range(1, len(ts)):\n",
    "            h = ts[idx] - ts[idx - 1]\n",
    "            t = ts[idx]\n",
    "            x0 = self.step(x0, t, h)\n",
    "        return x0\n",
    "\n",
    "    @torch.no_grad() \n",
    "    def simulate_with_trajectory(self, x0: torch.Tensor, ts: torch.Tensor) -> torch.Tensor:\n",
    "        trajectory = [x0.clone()]\n",
    "        for idx in range(1, len(ts)):\n",
    "            h = ts[idx] - ts[idx - 1]\n",
    "            t = ts[idx]\n",
    "            x0 = self.step(x0, t, h)\n",
    "            trajectory.append(x0.clone())\n",
    "        return torch.stack(trajectory, dim=1)"
   ]
  },
  {
   "cell_type": "code",
   "execution_count": null,
   "metadata": {},
   "outputs": [],
   "source": [
    "class Euler(Simulator):\n",
    "    def __init__(self, ode: ODE):\n",
    "        self.ode = ode \n",
    "    \n",
    "    def step(self, xt: torch.Tensor, t: torch.Tensor, h: torch.Tensor) -> torch.Tensor:\n",
    "        return xt + self.ode.drift_comp(xt, t) * h\n",
    "    \n",
    "class EulerMaruyama(Simulator):\n",
    "    def __init__(self, sde: SDE):\n",
    "        self.sde = sde \n",
    "    \n",
    "    def step(self, x0, t, h):\n",
    "        return x0 + self.sde.drift_comp(x0, t) * h + self.sde.diff_comp(x0, t) * torch.sqrt(h) * torch.randn_like(x0)"
   ]
  },
  {
   "cell_type": "markdown",
   "metadata": {},
   "source": [
    "Simulating the simplest vector field $dX_t = -\\theta X_t dt$"
   ]
  },
  {
   "cell_type": "code",
   "execution_count": null,
   "metadata": {},
   "outputs": [],
   "source": [
    "class VF(ODE):\n",
    "    def __init__(self, theta: float):\n",
    "        self.theta = theta \n",
    "\n",
    "    def drift_comp(self, xt, t):\n",
    "        return - self.theta * xt\n",
    "\n",
    "class Weiner(SDE):\n",
    "    def __init__(self, theta, sigma):\n",
    "        self.theta = theta \n",
    "        self.sigma = sigma \n",
    "\n",
    "    def drift_comp(self, x0, t):\n",
    "        return torch.zeros_like(x0)\n",
    "    \n",
    "    def diff_comp(self, x0, t):\n",
    "        return self.sigma * torch.ones_like(x0)\n"
   ]
  },
  {
   "cell_type": "code",
   "execution_count": null,
   "metadata": {},
   "outputs": [],
   "source": [
    "def plot_trajectories_1d(x0: torch.Tensor, simulator: Simulator, timesteps: torch.Tensor, ax: Optional[Axes] = None):\n",
    "        \"\"\"\n",
    "        Graphs the trajectories of a one-dimensional SDE with given initial values (x0) and simulation timesteps (timesteps).\n",
    "        Args:\n",
    "            - x0: state at time t, shape (num_trajectories, 1)\n",
    "            - simulator: Simulator object used to simulate\n",
    "            - t: timesteps to simulate along, shape (num_timesteps,)\n",
    "            - ax: pyplot Axes object to plot on\n",
    "        \"\"\"\n",
    "        if ax is None:\n",
    "            ax = plt.gca()\n",
    "        trajectories = simulator.simulate_with_trajectory(x0, timesteps) # (num_trajectories, num_timesteps, ...)\n",
    "        for trajectory_idx in range(trajectories.shape[0]):\n",
    "            trajectory = trajectories[trajectory_idx, :, 0] # (num_timesteps,)\n",
    "            ax.plot(ts.cpu(), trajectory.cpu())"
   ]
  },
  {
   "cell_type": "code",
   "execution_count": null,
   "metadata": {},
   "outputs": [],
   "source": [
    "theta = 0.25 \n",
    "vf = Weiner(theta=theta, sigma=0.1)\n",
    "simulator = EulerMaruyama(sde=vf)\n",
    "x0 = torch.zeros(4,1) # Initial values - let's start at zero\n",
    "ts = torch.linspace(0.0,5.0,500) # simulation timesteps\n",
    "\n",
    "plt.figure(figsize=(4, 4))\n",
    "ax = plt.gca()\n",
    "ax.set_title(r'Trajectories of Brownian Motion with $\\sigma=$' + str(theta), fontsize=12)\n",
    "ax.set_xlabel(r'Time ($t$)', fontsize=12)\n",
    "ax.set_ylabel(r'$X_t$', fontsize=12)\n",
    "plot_trajectories_1d(x0, simulator, ts, ax)\n",
    "plt.show()"
   ]
  },
  {
   "cell_type": "code",
   "execution_count": null,
   "metadata": {},
   "outputs": [],
   "source": []
  }
 ],
 "metadata": {
  "kernelspec": {
   "display_name": "vit",
   "language": "python",
   "name": "python3"
  },
  "language_info": {
   "codemirror_mode": {
    "name": "ipython",
    "version": 3
   },
   "file_extension": ".py",
   "mimetype": "text/x-python",
   "name": "python",
   "nbconvert_exporter": "python",
   "pygments_lexer": "ipython3",
   "version": "3.10.16"
  }
 },
 "nbformat": 4,
 "nbformat_minor": 2
}
